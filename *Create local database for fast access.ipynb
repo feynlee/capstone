{
 "cells": [
  {
   "cell_type": "code",
   "execution_count": 1,
   "metadata": {
    "collapsed": true
   },
   "outputs": [],
   "source": [
    "import pandas as pd\n",
    "import numpy as np\n",
    "import datetime as dt\n",
    "import os, simplejson, requests\n",
    "from pandas.io.json import json_normalize\n",
    "from sqlalchemy import create_engine # database connection\n",
    "from __future__ import division   # force float division"
   ]
  },
  {
   "cell_type": "code",
   "execution_count": 53,
   "metadata": {
    "collapsed": false
   },
   "outputs": [],
   "source": [
    " # delete file 'NYC_Restaurant_Inspection_API.db' if it exists\n",
    "try:\n",
    "    os.remove('NYC_Restaurant_Inspection_API.db')\n",
    "except OSError:\n",
    "    pass\n",
    "# Initialize database with filename NYC_Restaurant_Inspection_API.db in current directory\n",
    "disk_engine = create_engine('sqlite:///NYC_Restaurant_Inspection_API.db')\n",
    "\n",
    "url = 'https://data.cityofnewyork.us/resource/9w7m-hzhe.json'\n",
    "with open(\"NYC.json.nogit\") as fh:\n",
    "    secrets = simplejson.loads(fh.read())\n",
    "app_token = secrets['app_token']\n",
    "\n",
    "# count number of rows        \n",
    "resp = requests.get(url=url+'?$$app_token='+app_token+'&$select=count(CAMIS)')\n",
    "data = simplejson.loads(resp.text)\n",
    "d_rows = json_normalize(data)\n",
    "rows=d_rows.astype(int).iloc[0,0]\n",
    "\n",
    "\n",
    "# build the database\n",
    "chunksize = 30000\n",
    "max_offset=rows//chunksize\n",
    "\n",
    "offset=0\n",
    "index_start = 0  \n",
    "j=0\n",
    "start = dt.datetime.now()     # start timing\n",
    "\n",
    "for offset in range(max_offset+1):\n",
    "    resp = requests.get(url=url+'?$$app_token='+app_token\n",
    "                        +'&$order=camis ASC, inspection_date DESC'+'&$limit='+str(chunksize)+'&$offset='+str(offset*chunksize))\n",
    "    data = simplejson.loads(resp.text)\n",
    "    df = json_normalize(data)\n",
    "    \n",
    "    df = df.rename(columns={c: c.upper().replace(' ', '_') for c in df.columns}) # Replace spaces with _ in columns\n",
    "\n",
    "    df.loc[:,'INSPECTION_DATE'] = pd.to_datetime(df['INSPECTION_DATE']) # Convert to datetimes\n",
    "    df.loc[:,'GRADE_DATE'] = pd.to_datetime(df['GRADE_DATE']) # Convert to datetimes\n",
    "    df.loc[:,'RECORD_DATE'] = pd.to_datetime(df['RECORD_DATE']) # Convert to datetimes\n",
    "\n",
    "    df.index += index_start\n",
    "    \n",
    "    print '{} seconds: completed {} rows'.format((dt.datetime.now() - start).seconds, j*chunksize+len(df.index))\n",
    "    j+=1\n",
    "\n",
    "    df.to_sql('data', disk_engine, if_exists='append')\n",
    "    index_start = df.index[-1] + 1                     #fix the index"
   ]
  }
 ],
 "metadata": {
  "kernelspec": {
   "display_name": "Python 2",
   "language": "python",
   "name": "python2"
  },
  "language_info": {
   "codemirror_mode": {
    "name": "ipython",
    "version": 2
   },
   "file_extension": ".py",
   "mimetype": "text/x-python",
   "name": "python",
   "nbconvert_exporter": "python",
   "pygments_lexer": "ipython2",
   "version": "2.7.11"
  }
 },
 "nbformat": 4,
 "nbformat_minor": 0
}
