{
 "cells": [
  {
   "cell_type": "code",
   "execution_count": 1,
   "metadata": {
    "collapsed": true
   },
   "outputs": [],
   "source": [
    "import pandas as pd\n",
    "import numpy as np\n",
    "import datetime as dt\n",
    "import os, simplejson, requests\n",
    "from pandas.io.json import json_normalize\n",
    "from sqlalchemy import create_engine # database connection\n",
    "from __future__ import division   # force float division"
   ]
  },
  {
   "cell_type": "code",
   "execution_count": 53,
   "metadata": {
    "collapsed": false
   },
   "outputs": [],
   "source": [
    " # delete file 'NYC_Restaurant_Inspection_API.db' if it exists\n",
    "try:\n",
    "    os.remove('NYC_Restaurant_Inspection_API.db')\n",
    "except OSError:\n",
    "    pass\n",
    "# Initialize database with filename NYC_Restaurant_Inspection_API.db in current directory\n",
    "disk_engine = create_engine('sqlite:///NYC_Restaurant_Inspection_API.db')\n",
    "\n",
    "url = 'https://data.cityofnewyork.us/resource/9w7m-hzhe.json'\n",
    "with open(\"NYC.json.nogit\") as fh:\n",
    "    secrets = simplejson.loads(fh.read())\n",
    "app_token = secrets['app_token']\n",
    "\n",
    "# count number of rows        \n",
    "resp = requests.get(url=url+'?$$app_token='+app_token+'&$select=count(CAMIS)')\n",
    "data = simplejson.loads(resp.text)\n",
    "d_rows = json_normalize(data)\n",
    "rows=d_rows.astype(int).iloc[0,0]\n",
    "\n",
    "chunksize = 30000\n",
    "max_offset=rows//chunksize"
   ]
  },
  {
   "cell_type": "code",
   "execution_count": 55,
   "metadata": {
    "collapsed": false
   },
   "outputs": [
    {
     "name": "stdout",
     "output_type": "stream",
     "text": [
      "2 seconds: completed 30000 rows\n",
      "10 seconds: completed 60000 rows\n",
      "18 seconds: completed 90000 rows\n",
      "26 seconds: completed 120000 rows\n",
      "40 seconds: completed 150000 rows\n",
      "49 seconds: completed 180000 rows\n",
      "59 seconds: completed 210000 rows\n",
      "68 seconds: completed 240000 rows\n",
      "79 seconds: completed 270000 rows\n",
      "89 seconds: completed 300000 rows\n",
      "99 seconds: completed 330000 rows\n",
      "109 seconds: completed 360000 rows\n",
      "119 seconds: completed 390000 rows\n",
      "129 seconds: completed 420000 rows\n",
      "139 seconds: completed 450000 rows\n",
      "149 seconds: completed 480000 rows\n",
      "158 seconds: completed 483296 rows\n"
     ]
    }
   ],
   "source": [
    "offset=0\n",
    "index_start = 0  \n",
    "j=0\n",
    "start = dt.datetime.now()     # start timing\n",
    "\n",
    "for offset in range(max_offset+1):\n",
    "    resp = requests.get(url=url+'?$$app_token='+app_token\n",
    "                        +'&$order=camis ASC, inspection_date DESC'+'&$limit='+str(chunksize)+'&$offset='+str(offset*chunksize))\n",
    "    data = simplejson.loads(resp.text)\n",
    "    df = json_normalize(data)\n",
    "    \n",
    "    df = df.rename(columns={c: c.upper().replace(' ', '_') for c in df.columns}) # Replace spaces with _ in columns\n",
    "\n",
    "    df.loc[:,'INSPECTION_DATE'] = pd.to_datetime(df['INSPECTION_DATE']) # Convert to datetimes\n",
    "    df.loc[:,'GRADE_DATE'] = pd.to_datetime(df['GRADE_DATE']) # Convert to datetimes\n",
    "    df.loc[:,'RECORD_DATE'] = pd.to_datetime(df['RECORD_DATE']) # Convert to datetimes\n",
    "\n",
    "    df.index += index_start\n",
    "    \n",
    "    print '{} seconds: completed {} rows'.format((dt.datetime.now() - start).seconds, j*chunksize+len(df.index))\n",
    "    j+=1\n",
    "\n",
    "    df.to_sql('data', disk_engine, if_exists='append')\n",
    "    index_start = df.index[-1] + 1                     #fix the index"
   ]
  },
  {
   "cell_type": "markdown",
   "metadata": {},
   "source": [
    "# Testing"
   ]
  },
  {
   "cell_type": "code",
   "execution_count": 56,
   "metadata": {
    "collapsed": false
   },
   "outputs": [
    {
     "data": {
      "text/html": [
       "<div>\n",
       "<table border=\"1\" class=\"dataframe\">\n",
       "  <thead>\n",
       "    <tr style=\"text-align: right;\">\n",
       "      <th></th>\n",
       "      <th>CAMIS</th>\n",
       "      <th>CUISINE_DESCRIPTION</th>\n",
       "      <th>BORO</th>\n",
       "      <th>CRITICAL_FLAG</th>\n",
       "      <th>INSPECTION_TYPE</th>\n",
       "      <th>INSPECTION_DATE</th>\n",
       "    </tr>\n",
       "  </thead>\n",
       "  <tbody>\n",
       "    <tr>\n",
       "      <th>0</th>\n",
       "      <td>30075445</td>\n",
       "      <td>Bakery</td>\n",
       "      <td>BRONX</td>\n",
       "      <td>Critical</td>\n",
       "      <td>Cycle Inspection / Initial Inspection</td>\n",
       "      <td>2015-02-09 00:00:00.000000</td>\n",
       "    </tr>\n",
       "    <tr>\n",
       "      <th>1</th>\n",
       "      <td>30075445</td>\n",
       "      <td>Bakery</td>\n",
       "      <td>BRONX</td>\n",
       "      <td>Not Critical</td>\n",
       "      <td>Cycle Inspection / Initial Inspection</td>\n",
       "      <td>2014-03-03 00:00:00.000000</td>\n",
       "    </tr>\n",
       "    <tr>\n",
       "      <th>2</th>\n",
       "      <td>30075445</td>\n",
       "      <td>Bakery</td>\n",
       "      <td>BRONX</td>\n",
       "      <td>Not Applicable</td>\n",
       "      <td>Trans Fat / Second Compliance Inspection</td>\n",
       "      <td>2013-10-10 00:00:00.000000</td>\n",
       "    </tr>\n",
       "    <tr>\n",
       "      <th>3</th>\n",
       "      <td>30075445</td>\n",
       "      <td>Bakery</td>\n",
       "      <td>BRONX</td>\n",
       "      <td>Critical</td>\n",
       "      <td>Cycle Inspection / Re-inspection</td>\n",
       "      <td>2013-09-11 00:00:00.000000</td>\n",
       "    </tr>\n",
       "    <tr>\n",
       "      <th>4</th>\n",
       "      <td>30075445</td>\n",
       "      <td>Bakery</td>\n",
       "      <td>BRONX</td>\n",
       "      <td>Critical</td>\n",
       "      <td>Cycle Inspection / Re-inspection</td>\n",
       "      <td>2013-09-11 00:00:00.000000</td>\n",
       "    </tr>\n",
       "  </tbody>\n",
       "</table>\n",
       "</div>"
      ],
      "text/plain": [
       "      CAMIS CUISINE_DESCRIPTION   BORO   CRITICAL_FLAG  \\\n",
       "0  30075445              Bakery  BRONX        Critical   \n",
       "1  30075445              Bakery  BRONX    Not Critical   \n",
       "2  30075445              Bakery  BRONX  Not Applicable   \n",
       "3  30075445              Bakery  BRONX        Critical   \n",
       "4  30075445              Bakery  BRONX        Critical   \n",
       "\n",
       "                            INSPECTION_TYPE             INSPECTION_DATE  \n",
       "0     Cycle Inspection / Initial Inspection  2015-02-09 00:00:00.000000  \n",
       "1     Cycle Inspection / Initial Inspection  2014-03-03 00:00:00.000000  \n",
       "2  Trans Fat / Second Compliance Inspection  2013-10-10 00:00:00.000000  \n",
       "3          Cycle Inspection / Re-inspection  2013-09-11 00:00:00.000000  \n",
       "4          Cycle Inspection / Re-inspection  2013-09-11 00:00:00.000000  "
      ]
     },
     "execution_count": 56,
     "metadata": {},
     "output_type": "execute_result"
    }
   ],
   "source": [
    "dr = pd.read_sql_query('SELECT CAMIS, CUISINE_DESCRIPTION, BORO, CRITICAL_FLAG, INSPECTION_TYPE, INSPECTION_DATE '\n",
    "                       'FROM data', disk_engine)\n",
    "dr.head()"
   ]
  }
 ],
 "metadata": {
  "kernelspec": {
   "display_name": "Python 2",
   "language": "python",
   "name": "python2"
  },
  "language_info": {
   "codemirror_mode": {
    "name": "ipython",
    "version": 2
   },
   "file_extension": ".py",
   "mimetype": "text/x-python",
   "name": "python",
   "nbconvert_exporter": "python",
   "pygments_lexer": "ipython2",
   "version": "2.7.11"
  }
 },
 "nbformat": 4,
 "nbformat_minor": 0
}
